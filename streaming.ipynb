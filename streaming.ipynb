{
 "cells": [
  {
   "cell_type": "code",
   "execution_count": 1,
   "id": "87c5a44a",
   "metadata": {},
   "outputs": [
    {
     "name": "stdout",
     "output_type": "stream",
     "text": [
      "Collecting kafka-python\n",
      "  Downloading kafka_python-2.0.2-py2.py3-none-any.whl (246 kB)\n",
      "\u001b[2K     \u001b[90m━━━━━━━━━━━━━━━━━━━━━━━━━━━━━━━━━━━━━━\u001b[0m \u001b[32m246.5/246.5 kB\u001b[0m \u001b[31m10.0 MB/s\u001b[0m eta \u001b[36m0:00:00\u001b[0m\n",
      "\u001b[?25hInstalling collected packages: kafka-python\n",
      "Successfully installed kafka-python-2.0.2\n",
      "\u001b[33mWARNING: Running pip as the 'root' user can result in broken permissions and conflicting behaviour with the system package manager. It is recommended to use a virtual environment instead: https://pip.pypa.io/warnings/venv\u001b[0m\u001b[33m\n",
      "\u001b[0mNote: you may need to restart the kernel to use updated packages.\n"
     ]
    }
   ],
   "source": [
    "# pip install kafka-python"
   ]
  },
  {
   "cell_type": "code",
   "execution_count": 3,
   "id": "28cc9dd8",
   "metadata": {},
   "outputs": [],
   "source": [
    "from os.path import abspath\n",
    "from kafka import KafkaConsumer\n",
    "from json import loads\n",
    "from time import sleep\n",
    "import pyspark\n",
    "from pyspark.sql import SparkSession"
   ]
  },
  {
   "cell_type": "code",
   "execution_count": 4,
   "id": "88fd4c57",
   "metadata": {},
   "outputs": [],
   "source": [
    "warehouse_location = abspath('spark-warehouse')\n",
    "scSpark = SparkSession.builder \\\n",
    "    .appName(\"Spark Hive\") \\\n",
    "    .config(\"spark.sql.warehouse.dir\", warehouse_location) \\\n",
    "    .enableHiveSupport() \\\n",
    "    .getOrCreate()"
   ]
  },
  {
   "cell_type": "code",
   "execution_count": 4,
   "id": "4fafdea4",
   "metadata": {},
   "outputs": [
    {
     "name": "stderr",
     "output_type": "stream",
     "text": [
      "ivysettings.xml file not found in HIVE_HOME or HIVE_CONF_DIR,/etc/hive/conf.dist/ivysettings.xml will be used\n",
      "22/08/09 14:38:10 WARN org.apache.hadoop.hive.ql.session.SessionState: METASTORE_FILTER_HOOK will be ignored, since hive.security.authorization.manager is set to instance of HiveAuthorizerFactory.\n"
     ]
    },
    {
     "data": {
      "text/plain": [
       "DataFrame[]"
      ]
     },
     "execution_count": 4,
     "metadata": {},
     "output_type": "execute_result"
    }
   ],
   "source": [
    "## MEMBUAT TABLE\n",
    "scSpark.sql(\"CREATE TABLE IF NOT EXISTS laporan_cuaca(kota string, cuaca string,\\\n",
    "            cuaca_deskripsi string, temperatur string, temperatur_min string, temperatur_max string,\\\n",
    "            date string, waktu string, created string) ROW FORMAT DELIMITED FIELDS TERMINATED BY ',' ;\")"
   ]
  },
  {
   "cell_type": "code",
   "execution_count": 5,
   "id": "12ea2232",
   "metadata": {},
   "outputs": [
    {
     "name": "stderr",
     "output_type": "stream",
     "text": [
      "ivysettings.xml file not found in HIVE_HOME or HIVE_CONF_DIR,/etc/hive/conf.dist/ivysettings.xml will be used\n"
     ]
    },
    {
     "data": {
      "text/plain": [
       "DataFrame[kota: string, cuaca: string, cuaca_deskripsi: string, temperatur: string, temperatur_min: string, temperatur_max: string, date: string, waktu: string, created: string]"
      ]
     },
     "execution_count": 5,
     "metadata": {},
     "output_type": "execute_result"
    }
   ],
   "source": [
    "scSpark.sql(\"SELECT * FROM laporan_cuaca\")"
   ]
  },
  {
   "cell_type": "code",
   "execution_count": 6,
   "id": "4004914f",
   "metadata": {},
   "outputs": [],
   "source": [
    "data_input = {\n",
    "    \"kota\": \"Bali\",\n",
    "    \"cuaca\": \"Clouds\",\n",
    "    \"cuaca_deskripsi\": \"overcast clouds\",\n",
    "    \"temperatur\": 299.39,\n",
    "    \"temperatur_min\": 299.39,\n",
    "    \"temperatur_max\": 299.69,\n",
    "    \"date\": \"2022-08-09\",\n",
    "    \"waktu\": \"06:31:41\",\n",
    "    \"created\": \"2022-08-09T06:31:41.124657\"\n",
    "}"
   ]
  },
  {
   "cell_type": "code",
   "execution_count": 7,
   "id": "686e15b8",
   "metadata": {},
   "outputs": [
    {
     "name": "stdout",
     "output_type": "stream",
     "text": [
      "('Bali','Clouds','overcast clouds','299.39','299.39','299.69','2022-08-09','06:31:41','2022-08-09T06:31:41.124657')\n"
     ]
    }
   ],
   "source": [
    "insert_data = \"('\"+\\\n",
    "    data_input['kota']+\"','\"+\\\n",
    "    data_input['cuaca']+\"','\"+\\\n",
    "    data_input['cuaca_deskripsi']+\"','\"+\\\n",
    "    str(data_input['temperatur'])+\"','\"+\\\n",
    "    str(data_input['temperatur_min'])+\"','\"+\\\n",
    "    str(data_input['temperatur_max'])+\"','\"+\\\n",
    "    str(data_input['date'])+\"','\"+\\\n",
    "    str(data_input['waktu'])+\"','\"+\\\n",
    "    str(data_input['created'])+\\\n",
    "    \"')\"\n",
    "print(insert_data)"
   ]
  },
  {
   "cell_type": "code",
   "execution_count": 8,
   "id": "cbf38a94",
   "metadata": {},
   "outputs": [
    {
     "name": "stdout",
     "output_type": "stream",
     "text": [
      "INSERT INTO laporan_cuaca values('Bali','Clouds','overcast clouds','299.39','299.39','299.69','2022-08-09','06:31:41','2022-08-09T06:31:41.124657')\n"
     ]
    }
   ],
   "source": [
    "sql_command = \"INSERT INTO laporan_cuaca values\"+insert_data\n",
    "print(sql_command)"
   ]
  },
  {
   "cell_type": "code",
   "execution_count": 9,
   "id": "3cfbd32c",
   "metadata": {},
   "outputs": [
    {
     "name": "stderr",
     "output_type": "stream",
     "text": [
      "                                                                                \r"
     ]
    },
    {
     "data": {
      "text/plain": [
       "DataFrame[]"
      ]
     },
     "execution_count": 9,
     "metadata": {},
     "output_type": "execute_result"
    }
   ],
   "source": [
    "scSpark.sql(\"INSERT INTO laporan_cuaca values('Bali','Clouds','overcast clouds','299.39','299.39','299.69','2022-08-09','06:31:41','2022-08-09T06:31:41.124657')\")"
   ]
  },
  {
   "cell_type": "code",
   "execution_count": 10,
   "id": "56d19074",
   "metadata": {},
   "outputs": [
    {
     "data": {
      "text/plain": [
       "DataFrame[]"
      ]
     },
     "execution_count": 10,
     "metadata": {},
     "output_type": "execute_result"
    }
   ],
   "source": [
    "scSpark.sql(sql_command)"
   ]
  },
  {
   "cell_type": "code",
   "execution_count": 4,
   "id": "effe7ec6",
   "metadata": {},
   "outputs": [
    {
     "name": "stderr",
     "output_type": "stream",
     "text": [
      "22/08/12 07:41:03 WARN org.apache.hadoop.util.concurrent.ExecutorHelper: Thread (Thread[GetFileInfo #1,5,main]) interrupted: \n",
      "java.lang.InterruptedException\n",
      "\tat com.google.common.util.concurrent.AbstractFuture.get(AbstractFuture.java:510)\n",
      "\tat com.google.common.util.concurrent.FluentFuture$TrustedFuture.get(FluentFuture.java:88)\n",
      "\tat org.apache.hadoop.util.concurrent.ExecutorHelper.logThrowableFromAfterExecute(ExecutorHelper.java:48)\n",
      "\tat org.apache.hadoop.util.concurrent.HadoopThreadPoolExecutor.afterExecute(HadoopThreadPoolExecutor.java:90)\n",
      "\tat java.util.concurrent.ThreadPoolExecutor.runWorker(ThreadPoolExecutor.java:1157)\n",
      "\tat java.util.concurrent.ThreadPoolExecutor$Worker.run(ThreadPoolExecutor.java:624)\n",
      "\tat java.lang.Thread.run(Thread.java:750)\n",
      "                                                                                \r"
     ]
    },
    {
     "name": "stdout",
     "output_type": "stream",
     "text": [
      "+-----------+------+----------------+----------+--------------+--------------+----------+--------+--------------------+\n",
      "|       kota| cuaca| cuaca_deskripsi|temperatur|temperatur_min|temperatur_max|      date|   waktu|             created|\n",
      "+-----------+------+----------------+----------+--------------+--------------+----------+--------+--------------------+\n",
      "|    Bandung|Clouds|   broken clouds|    294.28|        294.28|        294.28|2022-08-09|14:58:13| 2022-08-09T14:58:13|\n",
      "|      Medan|  Haze|            haze|    299.83|        299.83|        300.17|2022-08-09|14:58:12| 2022-08-09T14:58:12|\n",
      "|     Lombok|Clouds| overcast clouds|    294.42|        294.42|        294.42|2022-08-09|13:49:15| 2022-08-09T13:49:15|\n",
      "|     Lombok|Clouds|   broken clouds|    294.07|        294.07|        294.07|2022-08-09|14:58:12| 2022-08-09T14:58:12|\n",
      "|Labuan Bajo|Clouds|      few clouds|    297.42|        297.42|        297.42|2022-08-09|14:58:12| 2022-08-09T14:58:12|\n",
      "|       Bali|Clouds| overcast clouds|    298.28|        298.28|        298.69|2022-08-09|13:26:50| 2022-08-09T13:26:50|\n",
      "|       Bali|Clouds| overcast clouds|    298.28|        298.28|        298.69|2022-08-09|13:49:14| 2022-08-09T13:49:14|\n",
      "|       Bali|Clouds|   broken clouds|    298.28|        298.28|        298.69|2022-08-09|14:58:12| 2022-08-09T14:58:12|\n",
      "|Labuan Bajo|Clouds|scattered clouds|    297.72|        297.72|        297.72|2022-08-09|13:49:15| 2022-08-09T13:49:15|\n",
      "|     Lombok|Clouds| overcast clouds|    294.54|        294.54|        294.54|2022-08-09|13:26:50| 2022-08-09T13:26:50|\n",
      "|       Bali|Clouds| overcast clouds|    299.39|        299.39|        299.69|2022-08-09|06:31:41|2022-08-09T06:31:...|\n",
      "|    Bandung|Clouds|scattered clouds|    294.29|        294.29|        294.29|2022-08-09|13:49:15| 2022-08-09T13:49:15|\n",
      "|       Bali|Clouds| overcast clouds|    299.39|        299.39|        299.69|2022-08-09|06:31:41|2022-08-09T06:31:...|\n",
      "|      Medan|  Haze|            haze|    299.83|        299.83|        300.17|2022-08-09|13:49:15| 2022-08-09T13:49:15|\n",
      "|    Bandung|Clouds|scattered clouds|    294.45|        294.45|        294.45|2022-08-09|13:26:50| 2022-08-09T13:26:50|\n",
      "|      Medan|  Haze|            haze|    300.94|        300.94|        301.17|2022-08-09|13:26:50| 2022-08-09T13:26:50|\n",
      "|Labuan Bajo|Clouds|      few clouds|    298.14|        298.14|        298.14|2022-08-09|13:26:50| 2022-08-09T13:26:50|\n",
      "+-----------+------+----------------+----------+--------------+--------------+----------+--------+--------------------+\n",
      "\n"
     ]
    }
   ],
   "source": [
    "scSpark.sql(\"SELECT * FROM laporan_cuaca\").show()"
   ]
  },
  {
   "cell_type": "code",
   "execution_count": null,
   "id": "452c0f01",
   "metadata": {
    "scrolled": true
   },
   "outputs": [
    {
     "name": "stderr",
     "output_type": "stream",
     "text": [
      "22/08/12 07:41:34 WARN org.apache.hadoop.hive.ql.session.SessionState: METASTORE_FILTER_HOOK will be ignored, since hive.security.authorization.manager is set to instance of HiveAuthorizerFactory.\n"
     ]
    },
    {
     "name": "stdout",
     "output_type": "stream",
     "text": [
      "{'kota': 'Bali', 'cuaca': 'Clouds', 'cuaca_deskripsi': 'broken clouds', 'temperatur': 300.35, 'temperatur_min': 300.35, 'temperatur_max': 300.35, 'date': '2022-08-12', 'waktu': '07:35:16', 'created': '2022-08-12T07:35:16.030311'}\n",
      "{'kota': 'Lombok', 'cuaca': 'Clouds', 'cuaca_deskripsi': 'few clouds', 'temperatur': 298.36, 'temperatur_min': 298.36, 'temperatur_max': 298.36, 'date': '2022-08-12', 'waktu': '07:35:16', 'created': '2022-08-12T07:35:16.272541'}\n",
      "{'kota': 'Labuan Bajo', 'cuaca': 'Clouds', 'cuaca_deskripsi': 'scattered clouds', 'temperatur': 301.19, 'temperatur_min': 301.19, 'temperatur_max': 301.19, 'date': '2022-08-12', 'waktu': '07:35:16', 'created': '2022-08-12T07:35:16.425575'}\n",
      "{'kota': 'Medan', 'cuaca': 'Clouds', 'cuaca_deskripsi': 'scattered clouds', 'temperatur': 304.83, 'temperatur_min': 304.83, 'temperatur_max': 305.17, 'date': '2022-08-12', 'waktu': '07:35:16', 'created': '2022-08-12T07:35:16.585157'}\n",
      "{'kota': 'Bandung', 'cuaca': 'Clouds', 'cuaca_deskripsi': 'broken clouds', 'temperatur': 300.11, 'temperatur_min': 300.11, 'temperatur_max': 300.11, 'date': '2022-08-12', 'waktu': '07:35:16', 'created': '2022-08-12T07:35:16.751839'}\n",
      "{'kota': 'Bali', 'cuaca': 'Clouds', 'cuaca_deskripsi': 'broken clouds', 'temperatur': 300.35, 'temperatur_min': 300.35, 'temperatur_max': 300.35, 'date': '2022-08-12', 'waktu': '07:39:31', 'created': '2022-08-12T07:39:31.462150'}\n",
      "{'kota': 'Lombok', 'cuaca': 'Clouds', 'cuaca_deskripsi': 'few clouds', 'temperatur': 298.36, 'temperatur_min': 298.36, 'temperatur_max': 298.36, 'date': '2022-08-12', 'waktu': '07:39:31', 'created': '2022-08-12T07:39:31.597687'}\n"
     ]
    },
    {
     "name": "stderr",
     "output_type": "stream",
     "text": [
      "\r",
      "[Stage 10:>                                                         (0 + 1) / 1]\r",
      "\r",
      "                                                                                \r"
     ]
    },
    {
     "name": "stdout",
     "output_type": "stream",
     "text": [
      "{'kota': 'Labuan Bajo', 'cuaca': 'Clouds', 'cuaca_deskripsi': 'scattered clouds', 'temperatur': 301.19, 'temperatur_min': 301.19, 'temperatur_max': 301.19, 'date': '2022-08-12', 'waktu': '07:39:31', 'created': '2022-08-12T07:39:31.775949'}\n",
      "{'kota': 'Medan', 'cuaca': 'Clouds', 'cuaca_deskripsi': 'broken clouds', 'temperatur': 304.52, 'temperatur_min': 304.52, 'temperatur_max': 304.52, 'date': '2022-08-12', 'waktu': '07:39:31', 'created': '2022-08-12T07:39:31.883754'}\n",
      "{'kota': 'Bandung', 'cuaca': 'Rain', 'cuaca_deskripsi': 'light rain', 'temperatur': 300.11, 'temperatur_min': 300.11, 'temperatur_max': 300.11, 'date': '2022-08-12', 'waktu': '07:39:32', 'created': '2022-08-12T07:39:32.053583'}\n",
      "{'kota': 'Bali', 'cuaca': 'Clouds', 'cuaca_deskripsi': 'broken clouds', 'temperatur': 300.35, 'temperatur_min': 300.35, 'temperatur_max': 300.35, 'date': '2022-08-12', 'waktu': '07:39:38', 'created': '2022-08-12T07:39:38.172712'}\n"
     ]
    },
    {
     "name": "stderr",
     "output_type": "stream",
     "text": [
      "\r",
      "[Stage 14:>                                                         (0 + 1) / 1]\r",
      "\r",
      "                                                                                \r"
     ]
    },
    {
     "name": "stdout",
     "output_type": "stream",
     "text": [
      "{'kota': 'Lombok', 'cuaca': 'Clouds', 'cuaca_deskripsi': 'few clouds', 'temperatur': 298.36, 'temperatur_min': 298.36, 'temperatur_max': 298.36, 'date': '2022-08-12', 'waktu': '07:39:38', 'created': '2022-08-12T07:39:38.280173'}\n",
      "{'kota': 'Labuan Bajo', 'cuaca': 'Clouds', 'cuaca_deskripsi': 'scattered clouds', 'temperatur': 301.19, 'temperatur_min': 301.19, 'temperatur_max': 301.19, 'date': '2022-08-12', 'waktu': '07:39:38', 'created': '2022-08-12T07:39:38.377908'}\n",
      "{'kota': 'Medan', 'cuaca': 'Clouds', 'cuaca_deskripsi': 'scattered clouds', 'temperatur': 304.83, 'temperatur_min': 304.83, 'temperatur_max': 305.17, 'date': '2022-08-12', 'waktu': '07:39:38', 'created': '2022-08-12T07:39:38.496636'}\n",
      "{'kota': 'Bandung', 'cuaca': 'Clouds', 'cuaca_deskripsi': 'broken clouds', 'temperatur': 300.11, 'temperatur_min': 300.11, 'temperatur_max': 300.11, 'date': '2022-08-12', 'waktu': '07:39:38', 'created': '2022-08-12T07:39:38.633644'}\n"
     ]
    }
   ],
   "source": [
    "consumer = KafkaConsumer(\n",
    "    'laporan_cuaca',\n",
    "    bootstrap_servers=['34.87.9.155:9092'],\n",
    "    auto_offset_reset='earliest',\n",
    "    enable_auto_commit=True,\n",
    "    group_id='rifat-dataproc-suhu',\n",
    "    value_deserializer=lambda x: loads(x.decode('utf-8'))\n",
    ")\n",
    "for event in consumer:\n",
    "    event_data = event.value\n",
    "    data_input = event_data\n",
    "    \n",
    "    insert_data = \"('\"+\\\n",
    "        data_input['kota']+\"','\"+\\\n",
    "        data_input['cuaca']+\"','\"+\\\n",
    "        data_input['cuaca_deskripsi']+\"','\"+\\\n",
    "        str(data_input['temperatur'])+\"','\"+\\\n",
    "        str(data_input['temperatur_min'])+\"','\"+\\\n",
    "        str(data_input['temperatur_max'])+\"','\"+\\\n",
    "        str(data_input['date'])+\"','\"+\\\n",
    "        str(data_input['waktu'])+\"','\"+\\\n",
    "        str(data_input['created'])+\\\n",
    "        \"')\"\n",
    "    sql_command = \"INSERT INTO laporan_cuaca values\"+insert_data\n",
    "    scSpark.sql(sql_command)\n",
    "    print(event_data)\n",
    "    sleep(2)"
   ]
  },
  {
   "cell_type": "code",
   "execution_count": null,
   "id": "6b78a844",
   "metadata": {},
   "outputs": [],
   "source": []
  }
 ],
 "metadata": {
  "kernelspec": {
   "display_name": "PySpark",
   "language": "python",
   "name": "pyspark"
  },
  "language_info": {
   "codemirror_mode": {
    "name": "ipython",
    "version": 3
   },
   "file_extension": ".py",
   "mimetype": "text/x-python",
   "name": "python",
   "nbconvert_exporter": "python",
   "pygments_lexer": "ipython3",
   "version": "3.8.13"
  }
 },
 "nbformat": 4,
 "nbformat_minor": 5
}
